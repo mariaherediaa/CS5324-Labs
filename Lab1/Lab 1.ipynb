{
 "cells": [
  {
   "cell_type": "markdown",
   "id": "c5231aac",
   "metadata": {},
   "source": [
    "# Lab Assignment One: Exploring Table Data"
   ]
  },
  {
   "cell_type": "markdown",
   "id": "fa95a16a",
   "metadata": {},
   "source": [
    "By: "
   ]
  },
  {
   "cell_type": "markdown",
   "id": "8a4768dd",
   "metadata": {},
   "source": [
    "## 1. Business Understanding"
   ]
  },
  {
   "cell_type": "markdown",
   "id": "6b4db8d7",
   "metadata": {},
   "source": [
    " In your own words, give an overview of the dataset. Describe the purpose of the data set you selected (i.e., why and how was this data collected in the first place?). What is the prediction task for your data and why are other third parties interested in the result? Once you begin modeling, how well would your prediction algorithm need to perform to be considered useful to these third parties?\n",
    "- Be specific and use your own words to describe the aspects of the data."
   ]
  },
  {
   "cell_type": "markdown",
   "id": "02639290",
   "metadata": {},
   "source": [
    "## 2. Data Understanding"
   ]
  },
  {
   "cell_type": "markdown",
   "id": "27346708",
   "metadata": {},
   "source": [
    "### 2.1 Data Description"
   ]
  },
  {
   "cell_type": "markdown",
   "id": "841b14fd",
   "metadata": {},
   "source": [
    "Load the dataset and appropriately define data types. What data type should be used to represent each data attribute? Discuss the attributes collected in the dataset. For datasets with a large number of attributes, only discuss a subset of relevant attributes.  "
   ]
  },
  {
   "cell_type": "markdown",
   "id": "ba2d392a",
   "metadata": {},
   "source": [
    "### 2.2 Data Quality"
   ]
  },
  {
   "cell_type": "markdown",
   "id": "f45b818e",
   "metadata": {},
   "source": [
    "Verify data quality: Explain any missing values or duplicate data. Visualize entries that are missing/complete for different attributes. Are those mistakes? Why do these quality issues exist in the data? How do you deal with these problems? Give justifications for your methods (elimination or imputation).  "
   ]
  },
  {
   "cell_type": "markdown",
   "id": "b2a573ac",
   "metadata": {},
   "source": [
    "## 3. Data Visualization"
   ]
  },
  {
   "cell_type": "markdown",
   "id": "3ce06430",
   "metadata": {},
   "source": [
    "### 3.1 Visualize Basic Feature Distributions"
   ]
  },
  {
   "cell_type": "markdown",
   "id": "cf071b86",
   "metadata": {},
   "source": [
    "Visualize basic feature distributions. That is, plot the dynamic range and exploratory distribution plots (like boxplots, histograms, kernel density estimation) to better understand the data. Describe anything meaningful or potentially useful you discover from these visualizations. These may also help to understand what data is missing or needs imputation. Note: You can also use data from other sources to bolster visualizations. Visualize at least five plots, at least one categorical and at least one numeric. "
   ]
  },
  {
   "cell_type": "markdown",
   "id": "598b8404",
   "metadata": {},
   "source": [
    "### 3.2 Interpret Questions with Visualizations"
   ]
  },
  {
   "cell_type": "markdown",
   "id": "ec52ad59",
   "metadata": {},
   "source": [
    "Ask three interesting questions that are relevant to your dataset and explore visuals that help answer these questions. Use whichever visualization method is appropriate for your data.  Important: Interpret the implications for each visualization. "
   ]
  },
  {
   "cell_type": "markdown",
   "id": "a4d3f300",
   "metadata": {},
   "source": [
    "## 4. Exceptional Work"
   ]
  },
  {
   "cell_type": "markdown",
   "id": "1367efb4",
   "metadata": {},
   "source": [
    "- You have free reign to provide any additional analyses. \n",
    "- One idea (required for 7000 level students): implement dimensionality reduction using uniform manifold approximation and projection (UMAP), then visualize and interpret the results. Give an explanation of UMAP dimensionality reduction methods. You may be interested in the following information:\n",
    "    * https://github.com/lmcinnes/umap (Links to an external site.) \n",
    "    * https://pair-code.github.io/understanding-umap/"
   ]
  }
 ],
 "metadata": {
  "kernelspec": {
   "display_name": "Python 3",
   "language": "python",
   "name": "python3"
  },
  "language_info": {
   "codemirror_mode": {
    "name": "ipython",
    "version": 3
   },
   "file_extension": ".py",
   "mimetype": "text/x-python",
   "name": "python",
   "nbconvert_exporter": "python",
   "pygments_lexer": "ipython3",
   "version": "3.8.8"
  }
 },
 "nbformat": 4,
 "nbformat_minor": 5
}
