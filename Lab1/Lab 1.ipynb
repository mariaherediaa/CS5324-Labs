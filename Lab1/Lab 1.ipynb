{
 "cells": [
  {
   "cell_type": "markdown",
   "source": [
    "# Lab Assignment One: Exploring Table Data"
   ],
   "metadata": {}
  },
  {
   "cell_type": "markdown",
   "source": [
    "By: Maria Heredia, Manov Jain, Troy McNitt"
   ],
   "metadata": {}
  },
  {
   "cell_type": "markdown",
   "source": [
    "## 1. Business Understanding"
   ],
   "metadata": {}
  },
  {
   "cell_type": "markdown",
   "source": [
    "*In your own words, give an overview of the dataset. Describe the purpose of the data set you selected (i.e., why and how was this data collected in the first place?). What is the prediction task for your data and why are other third parties interested in the result? Once you begin modeling, how well would your prediction algorithm need to perform to be considered useful to these third parties? (Be specific and use your own words to describe the aspects of the data)*"
   ],
   "metadata": {}
  },
  {
   "cell_type": "markdown",
   "source": [
    "For this assignment, we have chosen to look at the adult census dataset from UCI. The raw data was collected during the 1994 US Census and later formatted by Barry Becker in 1996. The dataset includes 14 attributes and looks to predict if an individual makes over $50,000 in income a year. \n",
    "\n",
    "Adjusted for [inflation](https://www.in2013dollars.com/us/inflation/1994?amount=50000), this equals a 2021 income of $92,106. That level of income would put an individual in the 82nd percentile of US [incomes](https://dqydj.com/income_percentile_calculator/).\n",
    " \n",
    "This information is critical for policymakers and the general public to identify features that may equate to a better chance of earning a higher income. If any factor has a large impact on earnings, it is critical the public understand it as soon as possible in their life. It is equally important that governments at all levels understand what different factors play into the success of citizens, so they can attempt to bolster that behavior. The inverse is also important, as it informs possible biases that exist in society that may discriminate against certain members of society. "
   ],
   "metadata": {}
  },
  {
   "cell_type": "markdown",
   "source": [
    "## 2. Data Understanding"
   ],
   "metadata": {}
  },
  {
   "cell_type": "markdown",
   "source": [
    "### 2.1 Data Description"
   ],
   "metadata": {}
  },
  {
   "cell_type": "markdown",
   "source": [
    "Load the dataset and appropriately define data types."
   ],
   "metadata": {}
  },
  {
   "cell_type": "code",
   "execution_count": 32,
   "source": [
    "import pandas as pd\n",
    "import numpy as np\n",
    "import matplotlib.pyplot as plt\n",
    "import seaborn as sns\n",
    "%matplotlib inline\n",
    "\n",
    "\n",
    "# Data is given without column names\n",
    "columns = [\n",
    "    'age',\n",
    "    'workclass',\n",
    "    'fnlwgt',\n",
    "    'education',\n",
    "    'education_num',\n",
    "    'marital_status',\n",
    "    'occupation',\n",
    "    'relationship',\n",
    "    'race',\n",
    "    'sex',\n",
    "    'capital_gain',\n",
    "    'capital_loss',\n",
    "    'hours_per_week',\n",
    "    'native_country',\n",
    "    'above_50K_income'\n",
    "]\n",
    "\n",
    "df = pd.read_csv('adultdata.csv', names=columns, index_col=False, sep=', ', engine='python')\n",
    "\n",
    "# Convert str 50K income to boolean\n",
    "df['above_50K_income'] = df['above_50K_income'] == '>50K'\n",
    "\n",
    "df.head()"
   ],
   "outputs": [],
   "metadata": {
    "scrolled": false
   }
  },
  {
   "cell_type": "markdown",
   "source": [
    "As seen above, we can see a preview of the dataset. This shows all of the 15 attributes of the first 5 rows."
   ],
   "metadata": {}
  },
  {
   "cell_type": "markdown",
   "source": [
    "Next, we will be looking at the type of data provided in the set."
   ],
   "metadata": {}
  },
  {
   "cell_type": "code",
   "execution_count": null,
   "source": [
    "df.info()"
   ],
   "outputs": [
    {
     "output_type": "stream",
     "name": "stdout",
     "text": [
      "<class 'pandas.core.frame.DataFrame'>\n",
      "RangeIndex: 32561 entries, 0 to 32560\n",
      "Data columns (total 15 columns):\n",
      " #   Column            Non-Null Count  Dtype \n",
      "---  ------            --------------  ----- \n",
      " 0   age               32561 non-null  int64 \n",
      " 1   workclass         32561 non-null  object\n",
      " 2   fnlwgt            32561 non-null  int64 \n",
      " 3   education         32561 non-null  object\n",
      " 4   education_num     32561 non-null  int64 \n",
      " 5   marital_status    32561 non-null  object\n",
      " 6   occupation        32561 non-null  object\n",
      " 7   relationship      32561 non-null  object\n",
      " 8   race              32561 non-null  object\n",
      " 9   sex               32561 non-null  object\n",
      " 10  capital_gain      32561 non-null  int64 \n",
      " 11  capital_loss      32561 non-null  int64 \n",
      " 12  hours_per_week    32561 non-null  int64 \n",
      " 13  native_country    32561 non-null  object\n",
      " 14  above_50K_income  32561 non-null  bool  \n",
      "dtypes: bool(1), int64(6), object(8)\n",
      "memory usage: 3.5+ MB\n"
     ]
    }
   ],
   "metadata": {}
  },
  {
   "cell_type": "markdown",
   "source": [
    "Based on the data frame above, it can be seen that all 15 attributes have the same number of entries (32561). This verifies that there is no missing data from the set."
   ],
   "metadata": {}
  },
  {
   "cell_type": "markdown",
   "source": [
    "To take a closer look at the data, we will create a table to see all the attributes with their corresponding description, scale, type of variable, and range. "
   ],
   "metadata": {}
  },
  {
   "cell_type": "code",
   "execution_count": null,
   "source": [
    "# create a data description table\n",
    "data_des = pd.DataFrame()\n",
    "data_des['Features'] = df.columns\n",
    "data_des['Description'] = ['age', \n",
    "                           'work class identification',\n",
    "                           'final weight', \n",
    "                           'education level',\n",
    "                           'education ranking', \n",
    "                           'martial status identification',\n",
    "                           'type of occupation', \n",
    "                           'type of relationship',\n",
    "                           'race identification',\n",
    "                           'sex identification',\n",
    "                           'individual capital gain',\n",
    "                           'individual capital lose',\n",
    "                           'amount of hours working per week',\n",
    "                           'individual native country',\n",
    "                           'do they have above 50k income'\n",
    "                          ]\n",
    "data_des['Scales'] = ['ratio', \n",
    "                       'nominal',\n",
    "                       'ratio', \n",
    "                       'ordinal',\n",
    "                       'ordinal', \n",
    "                       'nominal',\n",
    "                       'nominal', \n",
    "                       'nominal',\n",
    "                       'nominal',\n",
    "                       'nominal',\n",
    "                       'ratio',\n",
    "                       'ratio',\n",
    "                       'ratio',\n",
    "                       'nominal',\n",
    "                       'nominal'\n",
    "                        ]\n",
    "data_des['Discrete\\Continuous'] = ['continuous', \n",
    "                                   'discrete',\n",
    "                                   'continuous', \n",
    "                                   'discrete',\n",
    "                                   'discrete', \n",
    "                                   'discrete',\n",
    "                                   'discrete', \n",
    "                                   'discrete',\n",
    "                                   'discrete',\n",
    "                                   'discrete',\n",
    "                                   'continuous',\n",
    "                                   'continuous',\n",
    "                                   'continuous',\n",
    "                                   'discrete',\n",
    "                                   'discrete'\n",
    "                                   ]\n",
    "data_des['Range'] = ['17-19', \n",
    "                    'Private, Self-emp-not-inc, Self-emp-inc, Federal-gov, Local-gov, State-gov, Without-pay, Never-worked',\n",
    "                    '12,285 - 148,4705', \n",
    "                    'Bachelors, Some-college, 11th, HS-grad, Prof-school, Assoc-acdm, Assoc-voc, 9th, 7th-8th, 12th, Masters, 1st-4th, 10th, Doctorate, 5th-6th, Preschool.',\n",
    "                    '1-16', \n",
    "                    'Married-civ-spouse, Divorced, Never-married, Separated, Widowed, Married-spouse-absent, Married-AF-spouse',\n",
    "                    'Tech-support, Craft-repair, Other-service, Sales, Exec-managerial, Prof-specialty, Handlers-cleaners, Machine-op-inspct, Adm-clerical, Farming-fishing, Transport-moving, Priv-house-serv, Protective-serv, Armed-Forces', \n",
    "                    'Wife, Own-child, Husband, Not-in-family, Other-relative, Unmarried',\n",
    "                    'White, Asian-Pac-Islander, Amer-Indian-Eskimo, Other, Black',\n",
    "                    'Female, Male',\n",
    "                    '0-99999',\n",
    "                    '0-4356',\n",
    "                    '1-99',\n",
    "                    'United-States, Cambodia, England, Puerto-Rico, Canada, Germany, Outlying-US(Guam-USVI-etc), India, Japan, Greece, South, China, Cuba, Iran, Honduras, Philippines, Italy, Poland, Jamaica, Vietnam, Mexico, Portugal, Ireland, France, Dominican-Republic, Laos, Ecuador, Taiwan, Haiti, Columbia, Hungary, Guatemala, Nicaragua, Scotland, Thailand, Yugoslavia, El-Salvador, Trinadad&Tobago, Peru, Hong, Holand-Netherlands',\n",
    "                    'True, False'\n",
    "                    ]\n",
    "\n",
    "data_des"
   ],
   "outputs": [
    {
     "output_type": "execute_result",
     "data": {
      "text/html": [
       "<div>\n",
       "<style scoped>\n",
       "    .dataframe tbody tr th:only-of-type {\n",
       "        vertical-align: middle;\n",
       "    }\n",
       "\n",
       "    .dataframe tbody tr th {\n",
       "        vertical-align: top;\n",
       "    }\n",
       "\n",
       "    .dataframe thead th {\n",
       "        text-align: right;\n",
       "    }\n",
       "</style>\n",
       "<table border=\"1\" class=\"dataframe\">\n",
       "  <thead>\n",
       "    <tr style=\"text-align: right;\">\n",
       "      <th></th>\n",
       "      <th>Features</th>\n",
       "      <th>Description</th>\n",
       "      <th>Scales</th>\n",
       "      <th>Discrete\\Continuous</th>\n",
       "      <th>Range</th>\n",
       "    </tr>\n",
       "  </thead>\n",
       "  <tbody>\n",
       "    <tr>\n",
       "      <th>0</th>\n",
       "      <td>age</td>\n",
       "      <td>age</td>\n",
       "      <td>ratio</td>\n",
       "      <td>continuous</td>\n",
       "      <td>17-19</td>\n",
       "    </tr>\n",
       "    <tr>\n",
       "      <th>1</th>\n",
       "      <td>workclass</td>\n",
       "      <td>work class identification</td>\n",
       "      <td>nominal</td>\n",
       "      <td>discrete</td>\n",
       "      <td>Private, Self-emp-not-inc, Self-emp-inc, Feder...</td>\n",
       "    </tr>\n",
       "    <tr>\n",
       "      <th>2</th>\n",
       "      <td>fnlwgt</td>\n",
       "      <td>final weight</td>\n",
       "      <td>ratio</td>\n",
       "      <td>continuous</td>\n",
       "      <td>12,285 - 148,4705</td>\n",
       "    </tr>\n",
       "    <tr>\n",
       "      <th>3</th>\n",
       "      <td>education</td>\n",
       "      <td>education level</td>\n",
       "      <td>ordinal</td>\n",
       "      <td>discrete</td>\n",
       "      <td>Bachelors, Some-college, 11th, HS-grad, Prof-s...</td>\n",
       "    </tr>\n",
       "    <tr>\n",
       "      <th>4</th>\n",
       "      <td>education_num</td>\n",
       "      <td>education ranking</td>\n",
       "      <td>ordinal</td>\n",
       "      <td>discrete</td>\n",
       "      <td>1-16</td>\n",
       "    </tr>\n",
       "    <tr>\n",
       "      <th>5</th>\n",
       "      <td>marital_status</td>\n",
       "      <td>martial status identification</td>\n",
       "      <td>nominal</td>\n",
       "      <td>discrete</td>\n",
       "      <td>Married-civ-spouse, Divorced, Never-married, S...</td>\n",
       "    </tr>\n",
       "    <tr>\n",
       "      <th>6</th>\n",
       "      <td>occupation</td>\n",
       "      <td>type of occupation</td>\n",
       "      <td>nominal</td>\n",
       "      <td>discrete</td>\n",
       "      <td>Tech-support, Craft-repair, Other-service, Sal...</td>\n",
       "    </tr>\n",
       "    <tr>\n",
       "      <th>7</th>\n",
       "      <td>relationship</td>\n",
       "      <td>type of relationship</td>\n",
       "      <td>nominal</td>\n",
       "      <td>discrete</td>\n",
       "      <td>Wife, Own-child, Husband, Not-in-family, Other...</td>\n",
       "    </tr>\n",
       "    <tr>\n",
       "      <th>8</th>\n",
       "      <td>race</td>\n",
       "      <td>race identification</td>\n",
       "      <td>nominal</td>\n",
       "      <td>discrete</td>\n",
       "      <td>White, Asian-Pac-Islander, Amer-Indian-Eskimo,...</td>\n",
       "    </tr>\n",
       "    <tr>\n",
       "      <th>9</th>\n",
       "      <td>sex</td>\n",
       "      <td>sex identification</td>\n",
       "      <td>nominal</td>\n",
       "      <td>discrete</td>\n",
       "      <td>Female, Male</td>\n",
       "    </tr>\n",
       "    <tr>\n",
       "      <th>10</th>\n",
       "      <td>capital_gain</td>\n",
       "      <td>individual capital gain</td>\n",
       "      <td>ratio</td>\n",
       "      <td>continuous</td>\n",
       "      <td>0-99999</td>\n",
       "    </tr>\n",
       "    <tr>\n",
       "      <th>11</th>\n",
       "      <td>capital_loss</td>\n",
       "      <td>individual capital lose</td>\n",
       "      <td>ratio</td>\n",
       "      <td>continuous</td>\n",
       "      <td>0-4356</td>\n",
       "    </tr>\n",
       "    <tr>\n",
       "      <th>12</th>\n",
       "      <td>hours_per_week</td>\n",
       "      <td>amount of hours working per week</td>\n",
       "      <td>ratio</td>\n",
       "      <td>continuous</td>\n",
       "      <td>1-99</td>\n",
       "    </tr>\n",
       "    <tr>\n",
       "      <th>13</th>\n",
       "      <td>native_country</td>\n",
       "      <td>individual native country</td>\n",
       "      <td>nominal</td>\n",
       "      <td>discrete</td>\n",
       "      <td>United-States, Cambodia, England, Puerto-Rico,...</td>\n",
       "    </tr>\n",
       "    <tr>\n",
       "      <th>14</th>\n",
       "      <td>above_50K_income</td>\n",
       "      <td>do they have above 50k income</td>\n",
       "      <td>nominal</td>\n",
       "      <td>discrete</td>\n",
       "      <td>True, False</td>\n",
       "    </tr>\n",
       "  </tbody>\n",
       "</table>\n",
       "</div>"
      ],
      "text/plain": [
       "            Features                       Description   Scales  \\\n",
       "0                age                               age    ratio   \n",
       "1          workclass         work class identification  nominal   \n",
       "2             fnlwgt                      final weight    ratio   \n",
       "3          education                   education level  ordinal   \n",
       "4      education_num                 education ranking  ordinal   \n",
       "5     marital_status     martial status identification  nominal   \n",
       "6         occupation                type of occupation  nominal   \n",
       "7       relationship              type of relationship  nominal   \n",
       "8               race               race identification  nominal   \n",
       "9                sex                sex identification  nominal   \n",
       "10      capital_gain           individual capital gain    ratio   \n",
       "11      capital_loss           individual capital lose    ratio   \n",
       "12    hours_per_week  amount of hours working per week    ratio   \n",
       "13    native_country         individual native country  nominal   \n",
       "14  above_50K_income     do they have above 50k income  nominal   \n",
       "\n",
       "   Discrete\\Continuous                                              Range  \n",
       "0           continuous                                              17-19  \n",
       "1             discrete  Private, Self-emp-not-inc, Self-emp-inc, Feder...  \n",
       "2           continuous                                  12,285 - 148,4705  \n",
       "3             discrete  Bachelors, Some-college, 11th, HS-grad, Prof-s...  \n",
       "4             discrete                                               1-16  \n",
       "5             discrete  Married-civ-spouse, Divorced, Never-married, S...  \n",
       "6             discrete  Tech-support, Craft-repair, Other-service, Sal...  \n",
       "7             discrete  Wife, Own-child, Husband, Not-in-family, Other...  \n",
       "8             discrete  White, Asian-Pac-Islander, Amer-Indian-Eskimo,...  \n",
       "9             discrete                                       Female, Male  \n",
       "10          continuous                                            0-99999  \n",
       "11          continuous                                             0-4356  \n",
       "12          continuous                                               1-99  \n",
       "13            discrete  United-States, Cambodia, England, Puerto-Rico,...  \n",
       "14            discrete                                        True, False  "
      ]
     },
     "metadata": {},
     "execution_count": 3
    }
   ],
   "metadata": {
    "scrolled": true
   }
  },
  {
   "cell_type": "markdown",
   "source": [
    "By looking at the descriptive table and data frame above, it appears that each attribute has a reasonable data type. Hence, there is no need to manipulate or change the data types of any of the attributes."
   ],
   "metadata": {}
  },
  {
   "cell_type": "markdown",
   "source": [
    "Now, let's take a closer look at the continuous attributes through a descriptive table."
   ],
   "metadata": {}
  },
  {
   "cell_type": "code",
   "execution_count": null,
   "source": [
    "df.describe()"
   ],
   "outputs": [
    {
     "output_type": "execute_result",
     "data": {
      "text/html": [
       "<div>\n",
       "<style scoped>\n",
       "    .dataframe tbody tr th:only-of-type {\n",
       "        vertical-align: middle;\n",
       "    }\n",
       "\n",
       "    .dataframe tbody tr th {\n",
       "        vertical-align: top;\n",
       "    }\n",
       "\n",
       "    .dataframe thead th {\n",
       "        text-align: right;\n",
       "    }\n",
       "</style>\n",
       "<table border=\"1\" class=\"dataframe\">\n",
       "  <thead>\n",
       "    <tr style=\"text-align: right;\">\n",
       "      <th></th>\n",
       "      <th>age</th>\n",
       "      <th>fnlwgt</th>\n",
       "      <th>education_num</th>\n",
       "      <th>capital_gain</th>\n",
       "      <th>capital_loss</th>\n",
       "      <th>hours_per_week</th>\n",
       "    </tr>\n",
       "  </thead>\n",
       "  <tbody>\n",
       "    <tr>\n",
       "      <th>count</th>\n",
       "      <td>32561.000000</td>\n",
       "      <td>3.256100e+04</td>\n",
       "      <td>32561.000000</td>\n",
       "      <td>32561.000000</td>\n",
       "      <td>32561.000000</td>\n",
       "      <td>32561.000000</td>\n",
       "    </tr>\n",
       "    <tr>\n",
       "      <th>mean</th>\n",
       "      <td>38.581647</td>\n",
       "      <td>1.897784e+05</td>\n",
       "      <td>10.080679</td>\n",
       "      <td>1077.648844</td>\n",
       "      <td>87.303830</td>\n",
       "      <td>40.437456</td>\n",
       "    </tr>\n",
       "    <tr>\n",
       "      <th>std</th>\n",
       "      <td>13.640433</td>\n",
       "      <td>1.055500e+05</td>\n",
       "      <td>2.572720</td>\n",
       "      <td>7385.292085</td>\n",
       "      <td>402.960219</td>\n",
       "      <td>12.347429</td>\n",
       "    </tr>\n",
       "    <tr>\n",
       "      <th>min</th>\n",
       "      <td>17.000000</td>\n",
       "      <td>1.228500e+04</td>\n",
       "      <td>1.000000</td>\n",
       "      <td>0.000000</td>\n",
       "      <td>0.000000</td>\n",
       "      <td>1.000000</td>\n",
       "    </tr>\n",
       "    <tr>\n",
       "      <th>25%</th>\n",
       "      <td>28.000000</td>\n",
       "      <td>1.178270e+05</td>\n",
       "      <td>9.000000</td>\n",
       "      <td>0.000000</td>\n",
       "      <td>0.000000</td>\n",
       "      <td>40.000000</td>\n",
       "    </tr>\n",
       "    <tr>\n",
       "      <th>50%</th>\n",
       "      <td>37.000000</td>\n",
       "      <td>1.783560e+05</td>\n",
       "      <td>10.000000</td>\n",
       "      <td>0.000000</td>\n",
       "      <td>0.000000</td>\n",
       "      <td>40.000000</td>\n",
       "    </tr>\n",
       "    <tr>\n",
       "      <th>75%</th>\n",
       "      <td>48.000000</td>\n",
       "      <td>2.370510e+05</td>\n",
       "      <td>12.000000</td>\n",
       "      <td>0.000000</td>\n",
       "      <td>0.000000</td>\n",
       "      <td>45.000000</td>\n",
       "    </tr>\n",
       "    <tr>\n",
       "      <th>max</th>\n",
       "      <td>90.000000</td>\n",
       "      <td>1.484705e+06</td>\n",
       "      <td>16.000000</td>\n",
       "      <td>99999.000000</td>\n",
       "      <td>4356.000000</td>\n",
       "      <td>99.000000</td>\n",
       "    </tr>\n",
       "  </tbody>\n",
       "</table>\n",
       "</div>"
      ],
      "text/plain": [
       "                age        fnlwgt  education_num  capital_gain  capital_loss  \\\n",
       "count  32561.000000  3.256100e+04   32561.000000  32561.000000  32561.000000   \n",
       "mean      38.581647  1.897784e+05      10.080679   1077.648844     87.303830   \n",
       "std       13.640433  1.055500e+05       2.572720   7385.292085    402.960219   \n",
       "min       17.000000  1.228500e+04       1.000000      0.000000      0.000000   \n",
       "25%       28.000000  1.178270e+05       9.000000      0.000000      0.000000   \n",
       "50%       37.000000  1.783560e+05      10.000000      0.000000      0.000000   \n",
       "75%       48.000000  2.370510e+05      12.000000      0.000000      0.000000   \n",
       "max       90.000000  1.484705e+06      16.000000  99999.000000   4356.000000   \n",
       "\n",
       "       hours_per_week  \n",
       "count    32561.000000  \n",
       "mean        40.437456  \n",
       "std         12.347429  \n",
       "min          1.000000  \n",
       "25%         40.000000  \n",
       "50%         40.000000  \n",
       "75%         45.000000  \n",
       "max         99.000000  "
      ]
     },
     "metadata": {},
     "execution_count": 4
    }
   ],
   "metadata": {
    "scrolled": true
   }
  },
  {
   "cell_type": "markdown",
   "source": [
    "In the table above, there are a couple attributes that are interesting to note:\n",
    "\n",
    "Age:\n",
    "- To start of with the age attribute, the minimum is 17 and the maximum is 90. This makes sense since the curators of data only queried the census data for all data for the ages between 17 and 90. The rational is that this range represents the working population in the US.  \n",
    "     \n",
    "Final Weight (fnlwgt):\n",
    "- Final weight is calculated by the dataset curators as an overall mechanism to compare two entries. The value is sourced from state-wide demographic information to represent how common an entry is in the overall population. Similar values within the same state demonstrates that two features of the two rows are similarly common in the population. \n",
    "\n",
    "Education Ranking (education_num):\n",
    "- Next, the 'education_num' attribute is on an ordinal scale. This attribute is ranking individuals from 1-16 with 1 refering to the lowest education level and 16 refering to the highest level of education. After looking at the raw dataset, the rankings are in the following order: \n",
    "    * 1: Preschool\n",
    "    * 2: 1st-4th \n",
    "    * 3: 5th-6th \n",
    "    * 4: 7th-8th \n",
    "    * 5: 9th\n",
    "    * 6: 10th\n",
    "    * 7: 11th \n",
    "    * 9: HS-grad\n",
    "    * 10: Some-college\n",
    "    * 11: Assoc-voc\n",
    "    * 12: Assoc-acdm\n",
    "    * 13: Bachelors\n",
    "    * 14: Masters\n",
    "    * 15: Prof-school\n",
    "    * 16: Doctorate\n",
    "\n",
    "Capital Gain:\n",
    "- When looking at the maximum for this attribute, it is a capital gain of \\\\$99,999. This appears to be a cut-off level in the dataset. This means that there is a possibility of individuals having a capital gain of more than \\\\$99,999, thus making the data less accurate.\n",
    "\n",
    "Hours per Week:\n",
    "- Simiarly, when looking at the maximum for this attribute, it is working 99 hours a week. This also appears to be a cut-off level in the dataset. There could be a possiblitity of individuals working more than 99 hours which is realistic in modern society. However, because this census was taken in 1994, there is no way to verify that individuals were working more than 99 hours a week. Morever, these values can make the dataset less accurate."
   ],
   "metadata": {}
  },
  {
   "cell_type": "markdown",
   "source": [
    "**1. What data type should be used to represent each data attribute?**\n",
    "(think this is already answered but I think we should either delete or change the data type of the 'education_num' attribute)\n",
    "\n",
    "**2. Discuss the attributes collected in the dataset. For datasets with a large number of attributes, only discuss a subset of relevant attributes.**\n",
    "(kind of already answered, do we need more detail?)"
   ],
   "metadata": {}
  },
  {
   "cell_type": "markdown",
   "source": [
    "### 2.2 Data Quality"
   ],
   "metadata": {}
  },
  {
   "cell_type": "markdown",
   "source": [
    "Verify data quality: Explain any missing values or duplicate data. Visualize entries that are missing/complete for different attributes. Are those mistakes? Why do these quality issues exist in the data? How do you deal with these problems? Give justifications for your methods (elimination or imputation).  "
   ],
   "metadata": {}
  },
  {
   "cell_type": "code",
   "execution_count": null,
   "source": [
    "# We can locate missing values\n",
    "for column in df.columns:\n",
    "    empty = df.loc[df[column] == '?']\n",
    "    if empty.shape[0] > 0:\n",
    "        print('Column {} missing {} values'.format(column, empty.shape[0]))\n",
    "\n",
    "to_remove = (df['workclass'] == '?') |( df['occupation'] == '?') | (df['native_country'] == '?')\n",
    "\n",
    "print('Removing {} rows from {} total, representing {:.2f}%'.format(to_remove.sum(), df.shape[0], (to_remove.sum()/df.shape[0])*100.0))\n",
    "\n",
    "# Leaves us with over 30,000 datapoints, so we will remove them\n",
    "df = df[~to_remove]"
   ],
   "outputs": [
    {
     "output_type": "stream",
     "name": "stdout",
     "text": [
      "Removing 0 rows from 30162 total, representing 0.00%\n"
     ]
    }
   ],
   "metadata": {}
  },
  {
   "cell_type": "markdown",
   "source": [
    "## 3. Data Visualization"
   ],
   "metadata": {}
  },
  {
   "cell_type": "markdown",
   "source": [
    "### 3.1 Visualize Basic Feature Distributions"
   ],
   "metadata": {}
  },
  {
   "cell_type": "markdown",
   "source": [
    "That is, plot the dynamic range and exploratory distribution plots (like boxplots, histograms, kernel density estimation) to better understand the data. Describe anything meaningful or potentially useful you discover from these visualizations. These may also help to understand what data is missing or needs imputation. Note: You can also use data from other sources to bolster visualizations. Visualize at least five plots, at least one categorical."
   ],
   "metadata": {}
  },
  {
   "cell_type": "markdown",
   "source": [
    "Plot 1: "
   ],
   "metadata": {}
  },
  {
   "cell_type": "code",
   "execution_count": null,
   "source": [
    "df.age.plot(kind='hist', bins=30)\n",
    "plt.xlabel('Age')"
   ],
   "outputs": [
    {
     "output_type": "execute_result",
     "data": {
      "text/plain": [
       "Text(0.5, 0, 'Age')"
      ]
     },
     "metadata": {},
     "execution_count": 5
    },
    {
     "output_type": "display_data",
     "data": {
      "image/png": "[encoded data removed]",
      "text/plain": [
       "<Figure size 432x288 with 1 Axes>"
      ]
     },
     "metadata": {
      "needs_background": "light"
     }
    }
   ],
   "metadata": {}
  },
  {
   "cell_type": "markdown",
   "source": [
    "Plot 2:"
   ],
   "metadata": {}
  },
  {
   "cell_type": "code",
   "execution_count": null,
   "source": [
    "pd.crosstab(df['sex'], df['above_50K_income'].astype(bool)).plot(kind='barh', stacked=True)\n",
    "pd.crosstab(df['occupation'], df['above_50K_income'].astype(bool)).plot(kind='barh', stacked=True)"
   ],
   "outputs": [
    {
     "output_type": "execute_result",
     "data": {
      "text/plain": [
       "<AxesSubplot:ylabel='occupation'>"
      ]
     },
     "metadata": {},
     "execution_count": 6
    },
    {
     "output_type": "display_data",
     "data": {
      "image/png": "[encoded data removed]",
      "text/plain": [
       "<Figure size 432x288 with 1 Axes>"
      ]
     },
     "metadata": {
      "needs_background": "light"
     }
    },
    {
     "output_type": "display_data",
     "data": {
      "image/png": "[encoded data removed]",
      "text/plain": [
       "<Figure size 432x288 with 1 Axes>"
      ]
     },
     "metadata": {
      "needs_background": "light"
     }
    }
   ],
   "metadata": {}
  },
  {
   "cell_type": "markdown",
   "source": [
    "Plot 3:"
   ],
   "metadata": {}
  },
  {
   "cell_type": "code",
   "execution_count": null,
   "source": [
    "corr = df.corr()\n",
    "sns.heatmap(corr, cmap=\"Blues\", annot=True)\n",
    "\n",
    "#Interesting to note that fnlwgt has almost no correlation on every feature... Which is how its supposed to be"
   ],
   "outputs": [
    {
     "output_type": "execute_result",
     "data": {
      "text/plain": [
       "<AxesSubplot:>"
      ]
     },
     "metadata": {},
     "execution_count": 7
    },
    {
     "output_type": "display_data",
     "data": {
      "image/png": "[encoded data removed]",
      "text/plain": [
       "<Figure size 432x288 with 2 Axes>"
      ]
     },
     "metadata": {
      "needs_background": "light"
     }
    }
   ],
   "metadata": {}
  },
  {
   "cell_type": "markdown",
   "source": [
    "Plot 4:"
   ],
   "metadata": {}
  },
  {
   "cell_type": "code",
   "execution_count": null,
   "source": [],
   "outputs": [],
   "metadata": {}
  },
  {
   "cell_type": "markdown",
   "source": [
    "Plot 5:"
   ],
   "metadata": {}
  },
  {
   "cell_type": "code",
   "execution_count": null,
   "source": [],
   "outputs": [],
   "metadata": {}
  },
  {
   "cell_type": "markdown",
   "source": [
    "### 3.2 Interpret Questions with Visualizations"
   ],
   "metadata": {}
  },
  {
   "cell_type": "markdown",
   "source": [
    "Ask three interesting questions that are relevant to your dataset and explore visuals that help answer these questions. Use whichever visualization method is appropriate for your data.  Important: Interpret the implications for each visualization."
   ],
   "metadata": {}
  },
  {
   "cell_type": "markdown",
   "source": [
    "Question 1:"
   ],
   "metadata": {}
  },
  {
   "cell_type": "code",
   "execution_count": null,
   "source": [
    "pd.crosstab([df['race'], df['sex']], df['above_50K_income'].astype(bool)).plot(kind='barh', stacked=True)\n",
    "pd.crosstab([df['race'], df['sex']], (df['education_num'] > 9).astype(bool)).plot(kind='barh', stacked=True)"
   ],
   "outputs": [
    {
     "output_type": "execute_result",
     "data": {
      "text/plain": [
       "<AxesSubplot:ylabel='race,sex'>"
      ]
     },
     "metadata": {},
     "execution_count": 8
    },
    {
     "output_type": "display_data",
     "data": {
      "image/png": "[encoded data removed]",
      "text/plain": [
       "<Figure size 432x288 with 1 Axes>"
      ]
     },
     "metadata": {
      "needs_background": "light"
     }
    },
    {
     "output_type": "display_data",
     "data": {
      "image/png": "[encoded data removed]",
      "text/plain": [
       "<Figure size 432x288 with 1 Axes>"
      ]
     },
     "metadata": {
      "needs_background": "light"
     }
    }
   ],
   "metadata": {}
  },
  {
   "cell_type": "code",
   "execution_count": null,
   "source": [],
   "outputs": [],
   "metadata": {}
  },
  {
   "cell_type": "markdown",
   "source": [
    "Question 2:"
   ],
   "metadata": {}
  },
  {
   "cell_type": "code",
   "execution_count": null,
   "source": [],
   "outputs": [],
   "metadata": {}
  },
  {
   "cell_type": "code",
   "execution_count": null,
   "source": [],
   "outputs": [],
   "metadata": {}
  },
  {
   "cell_type": "markdown",
   "source": [
    "Question 3: "
   ],
   "metadata": {}
  },
  {
   "cell_type": "code",
   "execution_count": null,
   "source": [],
   "outputs": [],
   "metadata": {}
  },
  {
   "cell_type": "code",
   "execution_count": null,
   "source": [],
   "outputs": [],
   "metadata": {}
  },
  {
   "cell_type": "markdown",
   "source": [
    "## 4. Exceptional Work"
   ],
   "metadata": {}
  },
  {
   "cell_type": "markdown",
   "source": [
    "- You have free reign to provide any additional analyses. \n",
    "- One idea (required for 7000 level students): implement dimensionality reduction using uniform manifold approximation and projection (UMAP), then visualize and interpret the results. Give an explanation of UMAP dimensionality reduction methods. You may be interested in the following information:\n",
    "    * https://github.com/lmcinnes/umap (Links to an external site.) \n",
    "    * https://pair-code.github.io/understanding-umap/"
   ],
   "metadata": {}
  },
  {
   "cell_type": "markdown",
   "source": [
    "*ideas: another research question or linear regression*"
   ],
   "metadata": {}
  }
 ],
 "metadata": {
  "interpreter": {
   "hash": "aee8b7b246df8f9039afb4144a1f6fd8d2ca17a180786b69acc140d282b71a49"
  },
  "kernelspec": {
   "name": "python3",
   "display_name": "Python 3.9.5 64-bit"
  },
  "language_info": {
   "name": "python",
   "version": "3.9.5",
   "mimetype": "text/x-python",
   "codemirror_mode": {
    "name": "ipython",
    "version": 3
   },
   "pygments_lexer": "ipython3",
   "nbconvert_exporter": "python",
   "file_extension": ".py"
  }
 },
 "nbformat": 4,
 "nbformat_minor": 5
}